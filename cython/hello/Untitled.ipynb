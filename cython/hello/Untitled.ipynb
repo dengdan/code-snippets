{
 "cells": [
  {
   "cell_type": "code",
   "execution_count": 3,
   "metadata": {
    "collapsed": false
   },
   "outputs": [],
   "source": [
    "import numpy as np\n",
    "import convolve_py\n",
    "import pyximport; pyximport.install()\n",
    "import convolve\n",
    "import convolve_ctype\n",
    "import convolve_ctype_idx"
   ]
  },
  {
   "cell_type": "code",
   "execution_count": 4,
   "metadata": {
    "collapsed": false
   },
   "outputs": [],
   "source": [
    "N = 100\n",
    "f = np.arange(N*N, dtype=np.int).reshape((N,N))\n",
    "g = np.arange(81, dtype=np.int).reshape((9, 9))"
   ]
  },
  {
   "cell_type": "code",
   "execution_count": 5,
   "metadata": {
    "collapsed": false
   },
   "outputs": [
    {
     "name": "stdout",
     "output_type": "stream",
     "text": [
      "pure python:\n",
      "2 loops, best of 3: 627 ms per loop\n"
     ]
    }
   ],
   "source": [
    "print 'pure python:'\n",
    "%timeit -n2 convolve_py.naive_convolve(f, g)"
   ]
  },
  {
   "cell_type": "code",
   "execution_count": 6,
   "metadata": {
    "collapsed": false
   },
   "outputs": [
    {
     "name": "stdout",
     "output_type": "stream",
     "text": [
      "pure python but pyx\n",
      "2 loops, best of 3: 401 ms per loop\n"
     ]
    }
   ],
   "source": [
    "print 'pure python but pyx'\n",
    "%timeit -n2 convolve.naive_convolve(f, g)"
   ]
  },
  {
   "cell_type": "code",
   "execution_count": 7,
   "metadata": {
    "collapsed": false
   },
   "outputs": [
    {
     "name": "stdout",
     "output_type": "stream",
     "text": [
      "cython with ctype\n",
      "2 loops, best of 3: 373 ms per loop\n"
     ]
    }
   ],
   "source": [
    "print 'cython with ctype'\n",
    "%timeit -n2 convolve_ctype.naive_convolve(f, g)"
   ]
  },
  {
   "cell_type": "code",
   "execution_count": 8,
   "metadata": {
    "collapsed": false
   },
   "outputs": [
    {
     "name": "stdout",
     "output_type": "stream",
     "text": [
      "cython with ctype and index\n",
      "20 loops, best of 3: 2.79 ms per loop\n"
     ]
    }
   ],
   "source": [
    "print 'cython with ctype and index'\n",
    "%timeit -n20 convolve_ctype_idx.naive_convolve(f, g)"
   ]
  },
  {
   "cell_type": "code",
   "execution_count": null,
   "metadata": {
    "collapsed": true
   },
   "outputs": [],
   "source": []
  }
 ],
 "metadata": {
  "kernelspec": {
   "display_name": "Python 2",
   "language": "python",
   "name": "python2"
  },
  "language_info": {
   "codemirror_mode": {
    "name": "ipython",
    "version": 2
   },
   "file_extension": ".py",
   "mimetype": "text/x-python",
   "name": "python",
   "nbconvert_exporter": "python",
   "pygments_lexer": "ipython2",
   "version": "2.7.12"
  }
 },
 "nbformat": 4,
 "nbformat_minor": 1
}
