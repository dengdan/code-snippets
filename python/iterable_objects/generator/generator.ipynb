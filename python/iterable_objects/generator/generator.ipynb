{
 "cells": [
  {
   "cell_type": "markdown",
   "metadata": {},
   "source": [
    "有一种特殊的迭代器, 叫做生成器. 生成器有两种, 生成器表达式与生成器函数."
   ]
  },
  {
   "cell_type": "markdown",
   "metadata": {},
   "source": [
    "# 生成器表达式\n",
    "生成器表达式与列表推导在语法上十分相似:\n",
    "* 列表推导使用`[]`: [i for i in arr]\n",
    "* 生成器表达式使用`()`: (i for i in arr)\n",
    "\n",
    "但是它们有着本质的不同: 列表推导在被创建时会为每个元素分配内存空间, 最后得到的是一个正常完整的list对象. 而生成器表达式在被创建时并不会为它的元素分配内存空间, 因为它的元素此时还没有生成, 要等到被访问时才会生成并进入内存空间, 即以on the fly方式生成元素. \n",
    "所以, 生成器与列表推导相比, 优势是更省内存, 但不支持常见`len`, `arr[idx]`等这些常见的序列操作."
   ]
  },
  {
   "cell_type": "code",
   "execution_count": 1,
   "metadata": {
    "collapsed": true
   },
   "outputs": [],
   "source": [
    "a = range(10)\n",
    "list_comp = [i for i in a]\n",
    "gen_exp = (i for i in a)"
   ]
  },
  {
   "cell_type": "code",
   "execution_count": 2,
   "metadata": {
    "collapsed": false
   },
   "outputs": [
    {
     "name": "stdout",
     "output_type": "stream",
     "text": [
      "列表推导得到一个list对象: <type 'list'>\n",
      "生成器表达式得到一个生成器对象: <type 'generator'>\n"
     ]
    }
   ],
   "source": [
    "print '列表推导得到一个list对象:', type(list_comp)\n",
    "print '生成器表达式得到一个生成器对象:', type(gen_exp)"
   ]
  },
  {
   "cell_type": "code",
   "execution_count": 3,
   "metadata": {
    "collapsed": false
   },
   "outputs": [
    {
     "name": "stdout",
     "output_type": "stream",
     "text": [
      "生成器不能使用len方法:\n"
     ]
    },
    {
     "ename": "TypeError",
     "evalue": "object of type 'generator' has no len()",
     "output_type": "error",
     "traceback": [
      "\u001b[0;31m---------------------------------------------------------------------------\u001b[0m",
      "\u001b[0;31mTypeError\u001b[0m                                 Traceback (most recent call last)",
      "\u001b[0;32m<ipython-input-3-ef3f80c9ff21>\u001b[0m in \u001b[0;36m<module>\u001b[0;34m()\u001b[0m\n\u001b[1;32m      1\u001b[0m \u001b[0;32mprint\u001b[0m \u001b[0;34m'生成器不能使用len方法:'\u001b[0m\u001b[0;34m\u001b[0m\u001b[0m\n\u001b[0;32m----> 2\u001b[0;31m \u001b[0mlen\u001b[0m\u001b[0;34m(\u001b[0m\u001b[0mgen_exp\u001b[0m\u001b[0;34m)\u001b[0m\u001b[0;34m\u001b[0m\u001b[0m\n\u001b[0m",
      "\u001b[0;31mTypeError\u001b[0m: object of type 'generator' has no len()"
     ]
    }
   ],
   "source": [
    "print '生成器不能使用len方法:'\n",
    "len(gen_exp)"
   ]
  },
  {
   "cell_type": "code",
   "execution_count": 4,
   "metadata": {
    "collapsed": false
   },
   "outputs": [
    {
     "name": "stdout",
     "output_type": "stream",
     "text": [
      "生成器不能按索引访问:\n"
     ]
    },
    {
     "ename": "TypeError",
     "evalue": "'generator' object has no attribute '__getitem__'",
     "output_type": "error",
     "traceback": [
      "\u001b[0;31m---------------------------------------------------------------------------\u001b[0m",
      "\u001b[0;31mTypeError\u001b[0m                                 Traceback (most recent call last)",
      "\u001b[0;32m<ipython-input-4-b9810026b625>\u001b[0m in \u001b[0;36m<module>\u001b[0;34m()\u001b[0m\n\u001b[1;32m      1\u001b[0m \u001b[0;32mprint\u001b[0m \u001b[0;34m'生成器不能按索引访问:'\u001b[0m\u001b[0;34m\u001b[0m\u001b[0m\n\u001b[0;32m----> 2\u001b[0;31m \u001b[0mgen_exp\u001b[0m\u001b[0;34m[\u001b[0m\u001b[0;36m0\u001b[0m\u001b[0;34m]\u001b[0m\u001b[0;34m\u001b[0m\u001b[0m\n\u001b[0m",
      "\u001b[0;31mTypeError\u001b[0m: 'generator' object has no attribute '__getitem__'"
     ]
    }
   ],
   "source": [
    "print '生成器不能按索引访问:'\n",
    "gen_exp[0]"
   ]
  },
  {
   "cell_type": "code",
   "execution_count": 5,
   "metadata": {
    "collapsed": false
   },
   "outputs": [
    {
     "name": "stdout",
     "output_type": "stream",
     "text": [
      "生成器只支持顺序访问, 每个元素只能访问一次:\n",
      "第一次访问:\n",
      "0\n",
      "1\n",
      "2\n",
      "3\n",
      "4\n",
      "5\n",
      "6\n",
      "7\n",
      "8\n",
      "9\n",
      "第二次访问:\n"
     ]
    }
   ],
   "source": [
    "print '生成器只支持顺序访问, 每个元素只能访问一次:'\n",
    "print '第一次访问:'\n",
    "for i in gen_exp:    \n",
    "    print i\n",
    "print '第二次访问:'\n",
    "for i in gen_exp:    \n",
    "    print i"
   ]
  },
  {
   "cell_type": "markdown",
   "metadata": {},
   "source": [
    "# 生成器函数\n",
    "含有`yield`关键字的函数就是生成器函数, 它有以下几个特点:\n",
    "1. 含有`yield`关键字, 没有`return`关键字, 或者空`return`\n",
    "2. 调用生成器函数会返回一个生成器\n",
    "3. 调用生成器函数时, 它包含的代码并不会马上执行, 而是等到访问生成器元素时才一段一段地执行.\n",
    "下面通过示例来逐点说明."
   ]
  },
  {
   "cell_type": "code",
   "execution_count": 6,
   "metadata": {
    "collapsed": false
   },
   "outputs": [
    {
     "name": "stdout",
     "output_type": "stream",
     "text": [
      "有yield时, 通过return返回值会报错:\n"
     ]
    },
    {
     "ename": "SyntaxError",
     "evalue": "'return' with argument inside generator (<ipython-input-6-b64b918a6045>, line 6)",
     "output_type": "error",
     "traceback": [
      "\u001b[0;36m  File \u001b[0;32m\"<ipython-input-6-b64b918a6045>\"\u001b[0;36m, line \u001b[0;32m6\u001b[0m\n\u001b[0;31m    return 3\u001b[0m\n\u001b[0;31mSyntaxError\u001b[0m\u001b[0;31m:\u001b[0m 'return' with argument inside generator\n"
     ]
    }
   ],
   "source": [
    "print '有yield时, 通过return返回值会报错:'\n",
    "def gen_func():\n",
    "    yield 1\n",
    "    yield 2\n",
    "    yield 3\n",
    "    return 3"
   ]
  },
  {
   "cell_type": "code",
   "execution_count": 7,
   "metadata": {
    "collapsed": false
   },
   "outputs": [
    {
     "name": "stdout",
     "output_type": "stream",
     "text": [
      "可以使用空的return:\n",
      "<function gen_func at 0x7f713c086d70>\n",
      "<generator object gen_func at 0x7f713c0825f0>\n"
     ]
    }
   ],
   "source": [
    "print '可以使用空的return:'\n",
    "def gen_func():\n",
    "    yield 1\n",
    "    yield 2\n",
    "    yield 3\n",
    "    return \n",
    "print gen_func\n",
    "print gen_func()"
   ]
  },
  {
   "cell_type": "code",
   "execution_count": 8,
   "metadata": {
    "collapsed": false
   },
   "outputs": [
    {
     "name": "stdout",
     "output_type": "stream",
     "text": [
      "也可以不使用return:\n",
      "<function gen_func at 0x7f713c086938>\n",
      "<generator object gen_func at 0x7f713c082460>\n"
     ]
    }
   ],
   "source": [
    "print '也可以不使用return:'\n",
    "def gen_func():\n",
    "    yield 1\n",
    "    yield 2\n",
    "    yield 3\n",
    "    \n",
    "print gen_func\n",
    "print gen_func()"
   ]
  },
  {
   "cell_type": "markdown",
   "metadata": {},
   "source": [
    "从上面的输出也可以看出, 生成器函数本身是一个函数对象, 但它的返回值是一个生成器对象. 所以, 生成器函数是一个generator factory, `yield`则是一种特殊的`return`."
   ]
  },
  {
   "cell_type": "code",
   "execution_count": 9,
   "metadata": {
    "collapsed": false
   },
   "outputs": [
    {
     "name": "stdout",
     "output_type": "stream",
     "text": [
      "调用gen_func时, 不会print任何东西, 因为函数体内的代码不会被执行:\n",
      "调用gen_func结束.\n",
      "访问生成器内的元素时才会执行函数体内的代码:\n",
      "开始访问生成器的元素:\n",
      "yield 1...\n",
      "1\n",
      "yield 2...\n",
      "2\n",
      "yield 3...\n",
      "3\n",
      "访问生成器的元素结束.\n"
     ]
    }
   ],
   "source": [
    "def gen_func():\n",
    "    print 'yield 1...'\n",
    "    yield 1\n",
    "    print 'yield 2...'\n",
    "    yield 2\n",
    "    print 'yield 3...'\n",
    "    yield 3\n",
    "\n",
    "print '调用gen_func时, 不会print任何东西, 因为函数体内的代码不会被执行:'\n",
    "gen = gen_func()\n",
    "print '调用gen_func结束.'\n",
    "\n",
    "print '访问生成器内的元素时才会执行函数体内的代码:'\n",
    "print '开始访问生成器的元素:'\n",
    "for i in gen:\n",
    "    print i\n",
    "print '访问生成器的元素结束.'"
   ]
  },
  {
   "cell_type": "markdown",
   "metadata": {},
   "source": [
    "同样的, 通过生成器函数生成的生成器也不支持`len`与`[]`, 元素也只能访问一次. 每访问一次它的元素, 它就从上次停止执行的位置继续执行函数代码直到遇到下一个yield并返回`yield`后面的值. "
   ]
  },
  {
   "cell_type": "markdown",
   "metadata": {},
   "source": [
    "# 总结\n",
    "1. 生成器:\n",
    " * 一种特殊的迭代器\n",
    " * 以on the fly的方式生成元素\n",
    " * 生成的元素只能访问一次\n",
    "\n",
    "2. 生成表达式: `(exp(i) for i in iterable)`\n",
    "3. 生成器函数:\n",
    " * 包含`yield`, 没有`return`值\n",
    " * 调用函数时, 直接返回一个生成器, 其函数体内的代码不会被执行, 访问生成器的元素时才会被执行.\n",
    "4. 使用生成器的场景: 有大量顺序访问的元素, 但所有元素只访问一次. 这时使用生成器可以节省大量内存空间."
   ]
  }
 ],
 "metadata": {
  "kernelspec": {
   "display_name": "Python 2",
   "language": "python",
   "name": "python2"
  },
  "language_info": {
   "codemirror_mode": {
    "name": "ipython",
    "version": 2
   },
   "file_extension": ".py",
   "mimetype": "text/x-python",
   "name": "python",
   "nbconvert_exporter": "python",
   "pygments_lexer": "ipython2",
   "version": "2.7.12"
  }
 },
 "nbformat": 4,
 "nbformat_minor": 1
}
