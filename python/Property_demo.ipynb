{
 "cells": [
  {
   "cell_type": "markdown",
   "metadata": {},
   "source": [
    "# 在class里定义Property\n",
    "## 使用@property"
   ]
  },
  {
   "cell_type": "code",
   "execution_count": 25,
   "metadata": {
    "collapsed": false
   },
   "outputs": [
    {
     "name": "stdout",
     "output_type": "stream",
     "text": [
      "obj has no instance attribute in its __dict__ now: {}\n",
      "obj has instance attribute in its __dict__ now: {'data': 'object data'}\n",
      "the data attribute of Cls is untouched: class data\n",
      "the class property can override instance attribute: class property value\n",
      "instance attribute comes first when no property exits: object attribute\n"
     ]
    }
   ],
   "source": [
    "class Cls(object):\n",
    "    data = 'class data'\n",
    "    @property\n",
    "    def prop(self):\n",
    "        return 'class property value'\n",
    "    \n",
    "obj = Cls()\n",
    "print('obj has no instance attribute in its __dict__ now:', vars(obj))\n",
    "obj.data = 'object data'\n",
    "print('obj has instance attribute in its __dict__ now:', vars(obj))\n",
    "print('the data attribute of Cls is untouched:', Cls.data)\n",
    "obj.__dict__['prop'] = 'object attribute'\n",
    "print('the class property can override instance attribute:', obj.prop)\n",
    "Cls.prop = 'not property any more'\n",
    "print('instance attribute comes first when no property exits:', obj.prop)\n"
   ]
  },
  {
   "cell_type": "markdown",
   "metadata": {},
   "source": [
    "## 使用`class property(fget=None, fset=None, fdel=None, doc=None)`\n",
    "property在上面被当作修饰器使用, 可实质上它是一个class. "
   ]
  },
  {
   "cell_type": "code",
   "execution_count": 31,
   "metadata": {
    "collapsed": false
   },
   "outputs": [
    {
     "name": "stdout",
     "output_type": "stream",
     "text": [
      "class property\n",
      "{}\n",
      "{'_Cls__prop': 'instance attribute'}\n",
      "instance attribute\n",
      "<property object at 0x7fd135ef1958>\n"
     ]
    }
   ],
   "source": [
    "class Cls(object):\n",
    "    __prop = 'class property'\n",
    "    def get_prop(self):\n",
    "        return self.__prop\n",
    "    def set_prop(self,value):\n",
    "        self.__prop = value\n",
    "        \n",
    "    prop = property(get_prop, set_prop)\n",
    "    \n",
    "obj = Cls()\n",
    "print(obj.prop)\n",
    "print(vars(obj))\n",
    "obj.prop = 'instance attribute'\n",
    "print(vars(obj))\n",
    "print(obj.prop)\n",
    "print(Cls.prop)"
   ]
  },
  {
   "cell_type": "code",
   "execution_count": 36,
   "metadata": {
    "collapsed": false
   },
   "outputs": [
    {
     "name": "stdout",
     "output_type": "stream",
     "text": [
      "{}\n",
      "{'age': 20}\n"
     ]
    }
   ],
   "source": [
    "class Cls(object):\n",
    "    pass\n",
    "obj = Cls()\n",
    "print(obj.__dict__)\n",
    "obj.age = 20\n",
    "print(obj.__dict__)"
   ]
  },
  {
   "cell_type": "code",
   "execution_count": 46,
   "metadata": {
    "collapsed": false
   },
   "outputs": [
    {
     "name": "stdout",
     "output_type": "stream",
     "text": [
      "{'name': <member 'name' of 'Cls' objects>, '__doc__': None, '__slots__': 'name', 'hello': <function Cls.hello at 0x7fd135ed3d08>, '__module__': '__main__'}\n"
     ]
    },
    {
     "ename": "AttributeError",
     "evalue": "'Cls' object has no attribute '__get'",
     "output_type": "error",
     "traceback": [
      "\u001b[0;31m---------------------------------------------------------------------------\u001b[0m",
      "\u001b[0;31mAttributeError\u001b[0m                            Traceback (most recent call last)",
      "\u001b[0;32m<ipython-input-46-d897d78026d0>\u001b[0m in \u001b[0;36m<module>\u001b[0;34m()\u001b[0m\n\u001b[1;32m      8\u001b[0m \u001b[0;31m#print(obj.__dict__)\u001b[0m\u001b[0;34m\u001b[0m\u001b[0;34m\u001b[0m\u001b[0m\n\u001b[1;32m      9\u001b[0m \u001b[0mprint\u001b[0m\u001b[0;34m(\u001b[0m\u001b[0mvars\u001b[0m\u001b[0;34m(\u001b[0m\u001b[0mtype\u001b[0m\u001b[0;34m(\u001b[0m\u001b[0mobj\u001b[0m\u001b[0;34m)\u001b[0m\u001b[0;34m)\u001b[0m\u001b[0;34m)\u001b[0m\u001b[0;34m\u001b[0m\u001b[0m\n\u001b[0;32m---> 10\u001b[0;31m \u001b[0mobj\u001b[0m\u001b[0;34m.\u001b[0m\u001b[0m__get\u001b[0m \u001b[0;34m=\u001b[0m \u001b[0mCls\u001b[0m\u001b[0;34m\u001b[0m\u001b[0m\n\u001b[0m",
      "\u001b[0;31mAttributeError\u001b[0m: 'Cls' object has no attribute '__get'"
     ]
    }
   ],
   "source": [
    "class Cls(object):\n",
    "    __slots__ = ('name')\n",
    "    def hello(self):\n",
    "        print('hello.')\n",
    "obj = Cls()\n",
    "#print(vars(obj))\n",
    "obj.name = 20\n",
    "#print(obj.__dict__)\n",
    "print(vars(type(obj)))\n",
    "obj.__get = Cls"
   ]
  },
  {
   "cell_type": "code",
   "execution_count": 53,
   "metadata": {
    "collapsed": false
   },
   "outputs": [
    {
     "name": "stdout",
     "output_type": "stream",
     "text": [
      "class name\n"
     ]
    },
    {
     "ename": "AttributeError",
     "evalue": "'Cls' object attribute 'name' is read-only",
     "output_type": "error",
     "traceback": [
      "\u001b[0;31m---------------------------------------------------------------------------\u001b[0m",
      "\u001b[0;31mAttributeError\u001b[0m                            Traceback (most recent call last)",
      "\u001b[0;32m<ipython-input-53-0f16fe15c2a2>\u001b[0m in \u001b[0;36m<module>\u001b[0;34m()\u001b[0m\n\u001b[1;32m      8\u001b[0m \u001b[0mobj\u001b[0m \u001b[0;34m=\u001b[0m \u001b[0mCls\u001b[0m\u001b[0;34m(\u001b[0m\u001b[0;34m)\u001b[0m\u001b[0;34m\u001b[0m\u001b[0m\n\u001b[1;32m      9\u001b[0m \u001b[0mprint\u001b[0m\u001b[0;34m(\u001b[0m\u001b[0mobj\u001b[0m\u001b[0;34m.\u001b[0m\u001b[0mname\u001b[0m\u001b[0;34m)\u001b[0m\u001b[0;34m\u001b[0m\u001b[0m\n\u001b[0;32m---> 10\u001b[0;31m \u001b[0mobj\u001b[0m\u001b[0;34m.\u001b[0m\u001b[0mname\u001b[0m \u001b[0;34m=\u001b[0m \u001b[0;34m'name'\u001b[0m\u001b[0;34m\u001b[0m\u001b[0m\n\u001b[0m",
      "\u001b[0;31mAttributeError\u001b[0m: 'Cls' object attribute 'name' is read-only"
     ]
    }
   ],
   "source": [
    "class Cls(object):\n",
    "    __slots__=('age')\n",
    "    name = 'class name'\n",
    "    def __init__(self):\n",
    "        self.age = 20\n",
    "    def hello(self):\n",
    "        print('hello.')\n",
    "obj = Cls()\n",
    "print(obj.name)\n",
    "obj.name = 'name'"
   ]
  },
  {
   "cell_type": "code",
   "execution_count": 63,
   "metadata": {
    "collapsed": false
   },
   "outputs": [
    {
     "name": "stdout",
     "output_type": "stream",
     "text": [
      "class attribute: {'fn': <function Foo.fn at 0x7fd135ec8ea0>, '__weakref__': <attribute '__weakref__' of 'Foo' objects>, '__dict__': <attribute '__dict__' of 'Foo' objects>, '__doc__': None, '__module__': '__main__', 'name': 'Foo class attribute'}\n",
      "\n",
      "instance attribute: {'name': 'foo instance attribute'}\n"
     ]
    }
   ],
   "source": [
    "class Foo():\n",
    "    name = 'Foo class attribute'\n",
    "print('class attribute:', Foo.__dict__)\n",
    "print()\n",
    "foo = Foo()\n",
    "foo.name = 'foo instance attribute'\n",
    "print('instance attribute:', foo.__dict__)"
   ]
  },
  {
   "cell_type": "code",
   "execution_count": 66,
   "metadata": {
    "collapsed": false
   },
   "outputs": [
    {
     "name": "stdout",
     "output_type": "stream",
     "text": [
      "foo.name =  I do not want to be changed\n",
      "foo.name =  Unluckily, I can be changed\n"
     ]
    }
   ],
   "source": [
    "class Foo():\n",
    "    def __init__(self, name):\n",
    "        self.name = name\n",
    "    \n",
    "foo = Foo('I do not want to be changed')\n",
    "print('foo.name = ', foo.name)\n",
    "foo.name = 'Unluckily, I can be changed'\n",
    "print('foo.name = ', foo.name)"
   ]
  },
  {
   "cell_type": "code",
   "execution_count": 69,
   "metadata": {
    "collapsed": false
   },
   "outputs": [
    {
     "name": "stdout",
     "output_type": "stream",
     "text": [
      "foo.name =  I do not want to be changed\n"
     ]
    },
    {
     "ename": "AttributeError",
     "evalue": "can't set attribute",
     "output_type": "error",
     "traceback": [
      "\u001b[0;31m---------------------------------------------------------------------------\u001b[0m",
      "\u001b[0;31mAttributeError\u001b[0m                            Traceback (most recent call last)",
      "\u001b[0;32m<ipython-input-69-101c96ba497e>\u001b[0m in \u001b[0;36m<module>\u001b[0;34m()\u001b[0m\n\u001b[1;32m      9\u001b[0m \u001b[0mfoo\u001b[0m \u001b[0;34m=\u001b[0m \u001b[0mFoo\u001b[0m\u001b[0;34m(\u001b[0m\u001b[0;34m'I do not want to be changed'\u001b[0m\u001b[0;34m)\u001b[0m\u001b[0;34m\u001b[0m\u001b[0m\n\u001b[1;32m     10\u001b[0m \u001b[0mprint\u001b[0m\u001b[0;34m(\u001b[0m\u001b[0;34m'foo.name = '\u001b[0m\u001b[0;34m,\u001b[0m \u001b[0mfoo\u001b[0m\u001b[0;34m.\u001b[0m\u001b[0mname\u001b[0m\u001b[0;34m)\u001b[0m\u001b[0;34m\u001b[0m\u001b[0m\n\u001b[0;32m---> 11\u001b[0;31m \u001b[0mfoo\u001b[0m\u001b[0;34m.\u001b[0m\u001b[0mname\u001b[0m \u001b[0;34m=\u001b[0m \u001b[0;34m'Luckily, I really can not be changed'\u001b[0m\u001b[0;34m\u001b[0m\u001b[0m\n\u001b[0m",
      "\u001b[0;31mAttributeError\u001b[0m: can't set attribute"
     ]
    }
   ],
   "source": [
    "class Foo():\n",
    "    def __init__(self, name):\n",
    "        self.__name = name\n",
    "    \n",
    "    @property\n",
    "    def name(self):\n",
    "        return self.__name\n",
    "    \n",
    "foo = Foo('I do not want to be changed')\n",
    "print('foo.name = ', foo.name)\n",
    "foo.name = 'Luckily, I really can not be changed'"
   ]
  },
  {
   "cell_type": "code",
   "execution_count": 73,
   "metadata": {
    "collapsed": false
   },
   "outputs": [],
   "source": [
    "class Item():\n",
    "    def __init__(self, category, count, price):\n",
    "        self.cat = category\n",
    "        self.count = count\n",
    "        self.price = price\n",
    "        \n",
    "    def get_bill(self):\n",
    "        return self.count * self.price\n",
    "    \n",
    "item = Item('Bread', 1, 10)"
   ]
  },
  {
   "cell_type": "code",
   "execution_count": 74,
   "metadata": {
    "collapsed": true
   },
   "outputs": [],
   "source": [
    "invalid_item1 = Item('Bread', -1, 10)\n",
    "invalid_item2 = Item('Bread', 1, -10)"
   ]
  },
  {
   "cell_type": "code",
   "execution_count": 91,
   "metadata": {
    "collapsed": false
   },
   "outputs": [],
   "source": [
    "class Item():\n",
    "    def __init__(self, category, count, price):\n",
    "        self.__cat = category # attribute\n",
    "        self.count = count # property\n",
    "        self.price = price # property\n",
    "    @property    \n",
    "    def bill(self):\n",
    "        return self.__count * self.__price\n",
    "\n",
    "    @property\n",
    "    def cat(self):\n",
    "        return self.__cat\n",
    "    \n",
    "    @property\n",
    "    def count(self):\n",
    "        return self.__dict__['count']\n",
    "    @count.setter\n",
    "    def count(self, value):\n",
    "        if value < 0:\n",
    "            raise ValueError('count can not be minus: %r'%(value))\n",
    "        self.__dict__['count'] = value\n",
    "        \n",
    "    @property\n",
    "    def price(self):\n",
    "        return self.__dict__['price']\n",
    "    \n",
    "    @price.setter\n",
    "    def price(self, value):\n",
    "        if value < 0:\n",
    "            raise ValueError('price can not be minus: %r'%(value))\n",
    "        self.__dict__['price'] = value\n"
   ]
  },
  {
   "cell_type": "code",
   "execution_count": 92,
   "metadata": {
    "collapsed": false
   },
   "outputs": [
    {
     "name": "stdout",
     "output_type": "stream",
     "text": [
      "20\n"
     ]
    }
   ],
   "source": [
    "item = Item('Bread', 1, 10)\n",
    "item.price = 20\n",
    "item.count = 2\n",
    "print(item.price)"
   ]
  },
  {
   "cell_type": "code",
   "execution_count": 83,
   "metadata": {
    "collapsed": false
   },
   "outputs": [
    {
     "ename": "ValueError",
     "evalue": "price can not be minus: -10",
     "output_type": "error",
     "traceback": [
      "\u001b[0;31m---------------------------------------------------------------------------\u001b[0m",
      "\u001b[0;31mValueError\u001b[0m                                Traceback (most recent call last)",
      "\u001b[0;32m<ipython-input-83-d60dde11b782>\u001b[0m in \u001b[0;36m<module>\u001b[0;34m()\u001b[0m\n\u001b[0;32m----> 1\u001b[0;31m \u001b[0mitem\u001b[0m \u001b[0;34m=\u001b[0m \u001b[0mItem\u001b[0m\u001b[0;34m(\u001b[0m\u001b[0;34m'Bread'\u001b[0m\u001b[0;34m,\u001b[0m \u001b[0;36m1\u001b[0m\u001b[0;34m,\u001b[0m \u001b[0;34m-\u001b[0m\u001b[0;36m10\u001b[0m\u001b[0;34m)\u001b[0m\u001b[0;34m\u001b[0m\u001b[0m\n\u001b[0m",
      "\u001b[0;32m<ipython-input-80-551b1bca0287>\u001b[0m in \u001b[0;36m__init__\u001b[0;34m(self, category, count, price)\u001b[0m\n\u001b[1;32m      3\u001b[0m         \u001b[0mself\u001b[0m\u001b[0;34m.\u001b[0m\u001b[0m__cat\u001b[0m \u001b[0;34m=\u001b[0m \u001b[0mcategory\u001b[0m\u001b[0;34m\u001b[0m\u001b[0m\n\u001b[1;32m      4\u001b[0m         \u001b[0mself\u001b[0m\u001b[0;34m.\u001b[0m\u001b[0mcount\u001b[0m \u001b[0;34m=\u001b[0m \u001b[0mcount\u001b[0m \u001b[0;31m# property\u001b[0m\u001b[0;34m\u001b[0m\u001b[0m\n\u001b[0;32m----> 5\u001b[0;31m         \u001b[0mself\u001b[0m\u001b[0;34m.\u001b[0m\u001b[0mprice\u001b[0m \u001b[0;34m=\u001b[0m \u001b[0mprice\u001b[0m \u001b[0;31m# property\u001b[0m\u001b[0;34m\u001b[0m\u001b[0m\n\u001b[0m\u001b[1;32m      6\u001b[0m     \u001b[0;34m@\u001b[0m\u001b[0mproperty\u001b[0m\u001b[0;34m\u001b[0m\u001b[0m\n\u001b[1;32m      7\u001b[0m     \u001b[0;32mdef\u001b[0m \u001b[0mbill\u001b[0m\u001b[0;34m(\u001b[0m\u001b[0mself\u001b[0m\u001b[0;34m)\u001b[0m\u001b[0;34m:\u001b[0m\u001b[0;34m\u001b[0m\u001b[0m\n",
      "\u001b[0;32m<ipython-input-80-551b1bca0287>\u001b[0m in \u001b[0;36mprice\u001b[0;34m(self, value)\u001b[0m\n\u001b[1;32m     27\u001b[0m     \u001b[0;32mdef\u001b[0m \u001b[0mprice\u001b[0m\u001b[0;34m(\u001b[0m\u001b[0mself\u001b[0m\u001b[0;34m,\u001b[0m \u001b[0mvalue\u001b[0m\u001b[0;34m)\u001b[0m\u001b[0;34m:\u001b[0m\u001b[0;34m\u001b[0m\u001b[0m\n\u001b[1;32m     28\u001b[0m         \u001b[0;32mif\u001b[0m \u001b[0mvalue\u001b[0m \u001b[0;34m<\u001b[0m \u001b[0;36m0\u001b[0m\u001b[0;34m:\u001b[0m\u001b[0;34m\u001b[0m\u001b[0m\n\u001b[0;32m---> 29\u001b[0;31m             \u001b[0;32mraise\u001b[0m \u001b[0mValueError\u001b[0m\u001b[0;34m(\u001b[0m\u001b[0;34m'price can not be minus: %r'\u001b[0m\u001b[0;34m%\u001b[0m\u001b[0;34m(\u001b[0m\u001b[0mvalue\u001b[0m\u001b[0;34m)\u001b[0m\u001b[0;34m)\u001b[0m\u001b[0;34m\u001b[0m\u001b[0m\n\u001b[0m\u001b[1;32m     30\u001b[0m         \u001b[0mself\u001b[0m\u001b[0;34m.\u001b[0m\u001b[0m__dict__\u001b[0m\u001b[0;34m[\u001b[0m\u001b[0;34m'price'\u001b[0m\u001b[0;34m]\u001b[0m \u001b[0;34m=\u001b[0m \u001b[0mvalue\u001b[0m\u001b[0;34m\u001b[0m\u001b[0m\n\u001b[1;32m     31\u001b[0m \u001b[0;34m\u001b[0m\u001b[0m\n",
      "\u001b[0;31mValueError\u001b[0m: price can not be minus: -10"
     ]
    }
   ],
   "source": [
    "item = Item('Bread', 1, -10)"
   ]
  },
  {
   "cell_type": "code",
   "execution_count": 93,
   "metadata": {
    "collapsed": false
   },
   "outputs": [
    {
     "ename": "ValueError",
     "evalue": "price can not be minus: -10",
     "output_type": "error",
     "traceback": [
      "\u001b[0;31m---------------------------------------------------------------------------\u001b[0m",
      "\u001b[0;31mValueError\u001b[0m                                Traceback (most recent call last)",
      "\u001b[0;32m<ipython-input-93-4fcbd1284b2d>\u001b[0m in \u001b[0;36m<module>\u001b[0;34m()\u001b[0m\n\u001b[0;32m----> 1\u001b[0;31m \u001b[0mitem\u001b[0m\u001b[0;34m.\u001b[0m\u001b[0mprice\u001b[0m \u001b[0;34m=\u001b[0m \u001b[0;34m-\u001b[0m\u001b[0;36m10\u001b[0m\u001b[0;34m\u001b[0m\u001b[0m\n\u001b[0m",
      "\u001b[0;32m<ipython-input-91-7546240b5469>\u001b[0m in \u001b[0;36mprice\u001b[0;34m(self, value)\u001b[0m\n\u001b[1;32m     27\u001b[0m     \u001b[0;32mdef\u001b[0m \u001b[0mprice\u001b[0m\u001b[0;34m(\u001b[0m\u001b[0mself\u001b[0m\u001b[0;34m,\u001b[0m \u001b[0mvalue\u001b[0m\u001b[0;34m)\u001b[0m\u001b[0;34m:\u001b[0m\u001b[0;34m\u001b[0m\u001b[0m\n\u001b[1;32m     28\u001b[0m         \u001b[0;32mif\u001b[0m \u001b[0mvalue\u001b[0m \u001b[0;34m<\u001b[0m \u001b[0;36m0\u001b[0m\u001b[0;34m:\u001b[0m\u001b[0;34m\u001b[0m\u001b[0m\n\u001b[0;32m---> 29\u001b[0;31m             \u001b[0;32mraise\u001b[0m \u001b[0mValueError\u001b[0m\u001b[0;34m(\u001b[0m\u001b[0;34m'price can not be minus: %r'\u001b[0m\u001b[0;34m%\u001b[0m\u001b[0;34m(\u001b[0m\u001b[0mvalue\u001b[0m\u001b[0;34m)\u001b[0m\u001b[0;34m)\u001b[0m\u001b[0;34m\u001b[0m\u001b[0m\n\u001b[0m\u001b[1;32m     30\u001b[0m         \u001b[0mself\u001b[0m\u001b[0;34m.\u001b[0m\u001b[0m__dict__\u001b[0m\u001b[0;34m[\u001b[0m\u001b[0;34m'price'\u001b[0m\u001b[0;34m]\u001b[0m \u001b[0;34m=\u001b[0m \u001b[0mvalue\u001b[0m\u001b[0;34m\u001b[0m\u001b[0m\n",
      "\u001b[0;31mValueError\u001b[0m: price can not be minus: -10"
     ]
    }
   ],
   "source": [
    "item.price = -10"
   ]
  },
  {
   "cell_type": "code",
   "execution_count": 94,
   "metadata": {
    "collapsed": true
   },
   "outputs": [],
   "source": [
    "class Item():\n",
    "    def __init__(self, category, count, price):\n",
    "        self.__cat = category # attribute\n",
    "        self.count = count # property\n",
    "        self.price = price # property\n",
    "\n",
    "    def get_bill(self):\n",
    "        return self.__count * self.__price\n",
    "\n",
    "    def get_cat(self):\n",
    "        return self.__cat\n",
    "    \n",
    "    def get_count(self):\n",
    "        return self.__dict__['count']\n",
    "\n",
    "    def set_count(self, value):\n",
    "        if value < 0:\n",
    "            raise ValueError('count can not be minus: %r'%(value))\n",
    "        self.__dict__['count'] = value\n",
    "        \n",
    "    def get_price(self):\n",
    "        return self.__dict__['price']\n",
    "    \n",
    "    def set_price(self, value):\n",
    "        if value < 0:\n",
    "            raise ValueError('price can not be minus: %r'%(value))\n",
    "        self.__dict__['price'] = value\n",
    "    bill = property(get_bill)\n",
    "    cat = property(get_cat)\n",
    "    count = property(get_count, set_count)\n",
    "    price = property(get_price, set_price)\n",
    "    "
   ]
  },
  {
   "cell_type": "code",
   "execution_count": 95,
   "metadata": {
    "collapsed": false
   },
   "outputs": [
    {
     "name": "stdout",
     "output_type": "stream",
     "text": [
      "20\n"
     ]
    }
   ],
   "source": [
    "item = Item('Bread', 1, 10)\n",
    "item.price = 20\n",
    "item.count = 2\n",
    "print(item.price)"
   ]
  },
  {
   "cell_type": "code",
   "execution_count": 96,
   "metadata": {
    "collapsed": false
   },
   "outputs": [
    {
     "ename": "ValueError",
     "evalue": "price can not be minus: -10",
     "output_type": "error",
     "traceback": [
      "\u001b[0;31m---------------------------------------------------------------------------\u001b[0m",
      "\u001b[0;31mValueError\u001b[0m                                Traceback (most recent call last)",
      "\u001b[0;32m<ipython-input-96-d60dde11b782>\u001b[0m in \u001b[0;36m<module>\u001b[0;34m()\u001b[0m\n\u001b[0;32m----> 1\u001b[0;31m \u001b[0mitem\u001b[0m \u001b[0;34m=\u001b[0m \u001b[0mItem\u001b[0m\u001b[0;34m(\u001b[0m\u001b[0;34m'Bread'\u001b[0m\u001b[0;34m,\u001b[0m \u001b[0;36m1\u001b[0m\u001b[0;34m,\u001b[0m \u001b[0;34m-\u001b[0m\u001b[0;36m10\u001b[0m\u001b[0;34m)\u001b[0m\u001b[0;34m\u001b[0m\u001b[0m\n\u001b[0m",
      "\u001b[0;32m<ipython-input-94-261db8e71d6d>\u001b[0m in \u001b[0;36m__init__\u001b[0;34m(self, category, count, price)\u001b[0m\n\u001b[1;32m      3\u001b[0m         \u001b[0mself\u001b[0m\u001b[0;34m.\u001b[0m\u001b[0m__cat\u001b[0m \u001b[0;34m=\u001b[0m \u001b[0mcategory\u001b[0m \u001b[0;31m# attribute\u001b[0m\u001b[0;34m\u001b[0m\u001b[0m\n\u001b[1;32m      4\u001b[0m         \u001b[0mself\u001b[0m\u001b[0;34m.\u001b[0m\u001b[0mcount\u001b[0m \u001b[0;34m=\u001b[0m \u001b[0mcount\u001b[0m \u001b[0;31m# property\u001b[0m\u001b[0;34m\u001b[0m\u001b[0m\n\u001b[0;32m----> 5\u001b[0;31m         \u001b[0mself\u001b[0m\u001b[0;34m.\u001b[0m\u001b[0mprice\u001b[0m \u001b[0;34m=\u001b[0m \u001b[0mprice\u001b[0m \u001b[0;31m# property\u001b[0m\u001b[0;34m\u001b[0m\u001b[0m\n\u001b[0m\u001b[1;32m      6\u001b[0m \u001b[0;34m\u001b[0m\u001b[0m\n\u001b[1;32m      7\u001b[0m     \u001b[0;32mdef\u001b[0m \u001b[0mget_bill\u001b[0m\u001b[0;34m(\u001b[0m\u001b[0mself\u001b[0m\u001b[0;34m)\u001b[0m\u001b[0;34m:\u001b[0m\u001b[0;34m\u001b[0m\u001b[0m\n",
      "\u001b[0;32m<ipython-input-94-261db8e71d6d>\u001b[0m in \u001b[0;36mset_price\u001b[0;34m(self, value)\u001b[0m\n\u001b[1;32m     24\u001b[0m     \u001b[0;32mdef\u001b[0m \u001b[0mset_price\u001b[0m\u001b[0;34m(\u001b[0m\u001b[0mself\u001b[0m\u001b[0;34m,\u001b[0m \u001b[0mvalue\u001b[0m\u001b[0;34m)\u001b[0m\u001b[0;34m:\u001b[0m\u001b[0;34m\u001b[0m\u001b[0m\n\u001b[1;32m     25\u001b[0m         \u001b[0;32mif\u001b[0m \u001b[0mvalue\u001b[0m \u001b[0;34m<\u001b[0m \u001b[0;36m0\u001b[0m\u001b[0;34m:\u001b[0m\u001b[0;34m\u001b[0m\u001b[0m\n\u001b[0;32m---> 26\u001b[0;31m             \u001b[0;32mraise\u001b[0m \u001b[0mValueError\u001b[0m\u001b[0;34m(\u001b[0m\u001b[0;34m'price can not be minus: %r'\u001b[0m\u001b[0;34m%\u001b[0m\u001b[0;34m(\u001b[0m\u001b[0mvalue\u001b[0m\u001b[0;34m)\u001b[0m\u001b[0;34m)\u001b[0m\u001b[0;34m\u001b[0m\u001b[0m\n\u001b[0m\u001b[1;32m     27\u001b[0m         \u001b[0mself\u001b[0m\u001b[0;34m.\u001b[0m\u001b[0m__dict__\u001b[0m\u001b[0;34m[\u001b[0m\u001b[0;34m'price'\u001b[0m\u001b[0;34m]\u001b[0m \u001b[0;34m=\u001b[0m \u001b[0mvalue\u001b[0m\u001b[0;34m\u001b[0m\u001b[0m\n\u001b[1;32m     28\u001b[0m     \u001b[0mbill\u001b[0m \u001b[0;34m=\u001b[0m \u001b[0mproperty\u001b[0m\u001b[0;34m(\u001b[0m\u001b[0mget_bill\u001b[0m\u001b[0;34m)\u001b[0m\u001b[0;34m\u001b[0m\u001b[0m\n",
      "\u001b[0;31mValueError\u001b[0m: price can not be minus: -10"
     ]
    }
   ],
   "source": [
    "item = Item('Bread', 1, -10)"
   ]
  },
  {
   "cell_type": "code",
   "execution_count": 101,
   "metadata": {
    "collapsed": true
   },
   "outputs": [],
   "source": [
    "def readonly_prop(storage_name):\n",
    "    def getter(instance):\n",
    "        return instance.__dict__[storage_name]\n",
    "    return property(getter)\n",
    "def positive_mutable_prop(storage_name):\n",
    "    def getter(instance):\n",
    "        return instance.__dict__[storage_name]\n",
    "    def setter(instance, value):\n",
    "        if value < 0:\n",
    "            raise ValueError('%s can not be minus: %r'%(storage_name, value))\n",
    "        instance.__dict__[storage_name] = value\n",
    "    return property(getter, setter)\n",
    "\n",
    "class Item():\n",
    "    def __init__(self, category, count, price):\n",
    "        self.__cat = category # attribute\n",
    "        self.count = count # property\n",
    "        self.price = price # property\n",
    "   \n",
    "    cat = readonly_prop('__cat')\n",
    "    count = positive_mutable_prop('count')\n",
    "    price = positive_mutable_prop('price')\n",
    "    "
   ]
  },
  {
   "cell_type": "code",
   "execution_count": 98,
   "metadata": {
    "collapsed": false
   },
   "outputs": [
    {
     "name": "stdout",
     "output_type": "stream",
     "text": [
      "20\n"
     ]
    }
   ],
   "source": [
    "item = Item('Bread', 1, 10)\n",
    "item.price = 20\n",
    "item.count = 2\n",
    "print(item.price)"
   ]
  },
  {
   "cell_type": "code",
   "execution_count": 102,
   "metadata": {
    "collapsed": false
   },
   "outputs": [
    {
     "ename": "ValueError",
     "evalue": "price can not be minus: -10",
     "output_type": "error",
     "traceback": [
      "\u001b[0;31m---------------------------------------------------------------------------\u001b[0m",
      "\u001b[0;31mValueError\u001b[0m                                Traceback (most recent call last)",
      "\u001b[0;32m<ipython-input-102-d60dde11b782>\u001b[0m in \u001b[0;36m<module>\u001b[0;34m()\u001b[0m\n\u001b[0;32m----> 1\u001b[0;31m \u001b[0mitem\u001b[0m \u001b[0;34m=\u001b[0m \u001b[0mItem\u001b[0m\u001b[0;34m(\u001b[0m\u001b[0;34m'Bread'\u001b[0m\u001b[0;34m,\u001b[0m \u001b[0;36m1\u001b[0m\u001b[0;34m,\u001b[0m \u001b[0;34m-\u001b[0m\u001b[0;36m10\u001b[0m\u001b[0;34m)\u001b[0m\u001b[0;34m\u001b[0m\u001b[0m\n\u001b[0m",
      "\u001b[0;32m<ipython-input-101-a7f54f34bc65>\u001b[0m in \u001b[0;36m__init__\u001b[0;34m(self, category, count, price)\u001b[0m\n\u001b[1;32m     16\u001b[0m         \u001b[0mself\u001b[0m\u001b[0;34m.\u001b[0m\u001b[0m__cat\u001b[0m \u001b[0;34m=\u001b[0m \u001b[0mcategory\u001b[0m \u001b[0;31m# attribute\u001b[0m\u001b[0;34m\u001b[0m\u001b[0m\n\u001b[1;32m     17\u001b[0m         \u001b[0mself\u001b[0m\u001b[0;34m.\u001b[0m\u001b[0mcount\u001b[0m \u001b[0;34m=\u001b[0m \u001b[0mcount\u001b[0m \u001b[0;31m# property\u001b[0m\u001b[0;34m\u001b[0m\u001b[0m\n\u001b[0;32m---> 18\u001b[0;31m         \u001b[0mself\u001b[0m\u001b[0;34m.\u001b[0m\u001b[0mprice\u001b[0m \u001b[0;34m=\u001b[0m \u001b[0mprice\u001b[0m \u001b[0;31m# property\u001b[0m\u001b[0;34m\u001b[0m\u001b[0m\n\u001b[0m\u001b[1;32m     19\u001b[0m \u001b[0;34m\u001b[0m\u001b[0m\n\u001b[1;32m     20\u001b[0m     \u001b[0mcat\u001b[0m \u001b[0;34m=\u001b[0m \u001b[0mreadonly_prop\u001b[0m\u001b[0;34m(\u001b[0m\u001b[0;34m'__cat'\u001b[0m\u001b[0;34m)\u001b[0m\u001b[0;34m\u001b[0m\u001b[0m\n",
      "\u001b[0;32m<ipython-input-101-a7f54f34bc65>\u001b[0m in \u001b[0;36msetter\u001b[0;34m(instance, value)\u001b[0m\n\u001b[1;32m      8\u001b[0m     \u001b[0;32mdef\u001b[0m \u001b[0msetter\u001b[0m\u001b[0;34m(\u001b[0m\u001b[0minstance\u001b[0m\u001b[0;34m,\u001b[0m \u001b[0mvalue\u001b[0m\u001b[0;34m)\u001b[0m\u001b[0;34m:\u001b[0m\u001b[0;34m\u001b[0m\u001b[0m\n\u001b[1;32m      9\u001b[0m         \u001b[0;32mif\u001b[0m \u001b[0mvalue\u001b[0m \u001b[0;34m<\u001b[0m \u001b[0;36m0\u001b[0m\u001b[0;34m:\u001b[0m\u001b[0;34m\u001b[0m\u001b[0m\n\u001b[0;32m---> 10\u001b[0;31m             \u001b[0;32mraise\u001b[0m \u001b[0mValueError\u001b[0m\u001b[0;34m(\u001b[0m\u001b[0;34m'%s can not be minus: %r'\u001b[0m\u001b[0;34m%\u001b[0m\u001b[0;34m(\u001b[0m\u001b[0mstorage_name\u001b[0m\u001b[0;34m,\u001b[0m \u001b[0mvalue\u001b[0m\u001b[0;34m)\u001b[0m\u001b[0;34m)\u001b[0m\u001b[0;34m\u001b[0m\u001b[0m\n\u001b[0m\u001b[1;32m     11\u001b[0m         \u001b[0minstance\u001b[0m\u001b[0;34m.\u001b[0m\u001b[0m__dict__\u001b[0m\u001b[0;34m[\u001b[0m\u001b[0mstorage_name\u001b[0m\u001b[0;34m]\u001b[0m \u001b[0;34m=\u001b[0m \u001b[0mvalue\u001b[0m\u001b[0;34m\u001b[0m\u001b[0m\n\u001b[1;32m     12\u001b[0m     \u001b[0;32mreturn\u001b[0m \u001b[0mproperty\u001b[0m\u001b[0;34m(\u001b[0m\u001b[0mgetter\u001b[0m\u001b[0;34m,\u001b[0m \u001b[0msetter\u001b[0m\u001b[0;34m)\u001b[0m\u001b[0;34m\u001b[0m\u001b[0m\n",
      "\u001b[0;31mValueError\u001b[0m: price can not be minus: -10"
     ]
    }
   ],
   "source": [
    "item = Item('Bread', 1, -10)"
   ]
  },
  {
   "cell_type": "code",
   "execution_count": 104,
   "metadata": {
    "collapsed": false
   },
   "outputs": [
    {
     "name": "stdout",
     "output_type": "stream",
     "text": [
      "Foo.name = Foo\n",
      "foo.name = foo\n"
     ]
    }
   ],
   "source": [
    "class Foo():\n",
    "    name = 'Foo'\n",
    "    \n",
    "foo = Foo()\n",
    "foo.name = 'foo'\n",
    "codes = ['Foo.name', 'foo.name']\n",
    "for code in codes:\n",
    "    print(code, '=', eval(code))"
   ]
  },
  {
   "cell_type": "code",
   "execution_count": 106,
   "metadata": {
    "collapsed": false
   },
   "outputs": [
    {
     "name": "stdout",
     "output_type": "stream",
     "text": [
      "Foo.name = <property object at 0x7fd135e7ecc8>\n",
      "foo.name = Foo\n"
     ]
    }
   ],
   "source": [
    "class Foo():\n",
    "    @property\n",
    "    def name(self):\n",
    "        return 'Foo'\n",
    "    \n",
    "foo = Foo()\n",
    "foo.__dict__['name'] = 'foo'\n",
    "codes = ['Foo.name', 'foo.name']\n",
    "for code in codes:\n",
    "    print(code, '=', eval(code))"
   ]
  },
  {
   "cell_type": "code",
   "execution_count": 109,
   "metadata": {
    "collapsed": false
   },
   "outputs": [
    {
     "name": "stdout",
     "output_type": "stream",
     "text": [
      "the first argument of instance_method: <__main__.Foo object at 0x7fd135ec3b38>\n",
      "the first argument of class_method: <class '__main__.Foo'>\n",
      "the first argument of class_method: <class '__main__.Foo'>\n",
      "the first argument of static_method:\n",
      "the first argument of static_method:\n",
      "instance method can not be accessed through class\n"
     ]
    }
   ],
   "source": [
    "class Foo():\n",
    "    # 无修饰\n",
    "    def instance_method(self): #传入的第一个参数是self, 即instance本身\n",
    "        print('the first argument of instance_method:', self)\n",
    "        \n",
    "    @classmethod\n",
    "    def class_method(cls): # 传入的第一个参数是class\n",
    "        print('the first argument of class_method:', cls)\n",
    "        \n",
    "    @staticmethod\n",
    "    def static_method(): # 没有默认的首位参数, 只有自定义参数\n",
    "        print('the first argument of static_method:')\n",
    "        \n",
    "foo = Foo()\n",
    "foo.instance_method()\n",
    "Foo.class_method()\n",
    "foo.class_method()\n",
    "Foo.static_method()\n",
    "foo.static_method()\n",
    "try:\n",
    "    Foo.instance_method()\n",
    "except:\n",
    "    print('instance method can not be accessed through class.')"
   ]
  },
  {
   "cell_type": "code",
   "execution_count": 140,
   "metadata": {
    "collapsed": false
   },
   "outputs": [
    {
     "name": "stdout",
     "output_type": "stream",
     "text": [
      "decorated fn is called.\n",
      "As a decorator: 3\n",
      "__init__ is called\n",
      "As a class: <__main__.cls_decorator object at 0x7fd135e774a8>\n"
     ]
    }
   ],
   "source": [
    "class cls_decorator(object):\n",
    "    def __init__(self):\n",
    "        print('__init__ is called')\n",
    "        \n",
    "    def __new__(cls, fn = None):\n",
    "        if fn is not None and callable(fn):\n",
    "            def new_fn(*args, **kwargs):\n",
    "                print('decorated', fn.__name__, 'is called.')\n",
    "                result = fn(*args, **kwargs)\n",
    "                return result\n",
    "            return new_fn\n",
    "        else:\n",
    "            return super().__new__(cls)\n",
    "@cls_decorator\n",
    "def fn(a, b, c):\n",
    "    return 3\n",
    "\n",
    "print('As a decorator:', fn(1, 2, c = 3))\n",
    "print('As a class:', cls_decorator())"
   ]
  },
  {
   "cell_type": "code",
   "execution_count": 126,
   "metadata": {
    "collapsed": false
   },
   "outputs": [
    {
     "name": "stdout",
     "output_type": "stream",
     "text": [
      "<property object at 0x7fd135e604f8> <property object at 0x7fd135ef51d8>\n",
      "Foo 10\n"
     ]
    }
   ],
   "source": [
    "class Foo():\n",
    "    @property\n",
    "    def name(self):\n",
    "        return 'Foo'\n",
    "    def get_age(self):\n",
    "        return 10\n",
    "    age = property(get_age)\n",
    "\n",
    "print(Foo.name, Foo.age)\n",
    "foo = Foo()\n",
    "print(foo.name, foo.age)"
   ]
  },
  {
   "cell_type": "code",
   "execution_count": null,
   "metadata": {
    "collapsed": true
   },
   "outputs": [],
   "source": []
  }
 ],
 "metadata": {
  "kernelspec": {
   "display_name": "Python 3",
   "language": "python",
   "name": "python3"
  },
  "language_info": {
   "codemirror_mode": {
    "name": "ipython",
    "version": 3
   },
   "file_extension": ".py",
   "mimetype": "text/x-python",
   "name": "python",
   "nbconvert_exporter": "python",
   "pygments_lexer": "ipython3",
   "version": "3.5.2"
  }
 },
 "nbformat": 4,
 "nbformat_minor": 1
}
